{
 "cells": [
  {
   "cell_type": "markdown",
   "metadata": {},
   "source": [
    "# Battle of the New York Neighbourhoods Week 1"
   ]
  },
  {
   "cell_type": "markdown",
   "metadata": {},
   "source": [
    "#### The following report will contain details referring to week 4 requirements for the Capstone Data Science course by IBM. This document will cover the Introduction/ Business problem as well as the Data section which will be built on in the following week."
   ]
  },
  {
   "cell_type": "markdown",
   "metadata": {},
   "source": [
    "## Introduction"
   ]
  },
  {
   "cell_type": "markdown",
   "metadata": {},
   "source": [
    "Businessmen are always attempting to expand their wealth by either growing their current companies or expanding their current portfolio in order to retrieve more streams of income. Ideally this is always informed through a complex decision matrix on possible expansion strategies they wish to pursue. Business ideas are brain stormed, the top ideas are selected and business plans are written out on a high level. The top business plans are further developed and eliminated as the level of detail increases and finally out of this entire process, an idea becomes a project which is pursued. Through many iterations and blending of business ideas, the final idea may not have been an idea from the iteration process but something that was concluded during the iteration stage. One of the important elements in refining a business idea is always to understand a market and potential customers. There are many traits that characterise potential customers such as lifestyle, income bracket, culture, beliefs, location, etc. By identifying the potential customers and characterising them, a potential investor is able to decide where they wish to pursure their next endevour. This is one of the many ways Data Scientists are able to use data to understand communities and better suggest products/services that will indeed be successful due to the fact that it makes lives easier for people. The most successful businesses are the ones that improve the quality of life for people and bring the most value to their respective customers."
   ]
  },
  {
   "cell_type": "markdown",
   "metadata": {},
   "source": [
    "## Business Problem"
   ]
  },
  {
   "cell_type": "markdown",
   "metadata": {},
   "source": [
    "Our client owns businesses across the world and have finally grown enough to infiltrate business into the New York area. The client hired our company to investigate various business opportunities in the new york area and provide them with our suggestions on the various business ventures they may partake in. As this is the first time that our client is looking into New York City, they require us to report on the various business opportunities we find and provide recommendations on what their strategy should be. As a Data Scientist within the company, we are required to understand the various areas within new york by understanding the current businesses that exist within new york and provide the strategy team with more locational information acccording to the neighbourhoods so that they can better support their business cases that they wish to recommend to the client."
   ]
  },
  {
   "cell_type": "markdown",
   "metadata": {},
   "source": [
    "## Data"
   ]
  },
  {
   "cell_type": "markdown",
   "metadata": {},
   "source": [
    "Our data will make use of the FourSquare API and will gather the various types of businesses that exist within the various neighborhoods of New York. These businesses will then be categorised according to the types of businesses that they are such as restaurants, fast food, lifestyle, basic needs, etc. The locational data of New York will be retrieved through a geojson file. An article off the internet will also be used to scrape household income from respective neighborhoods from the internet as it will be interesting to observe the types of business that exist from neighbourhood trends due to income brackets. This will give us a better understanding of why some businesses exist within neighbourhoods and better understand the picture of how businesses operate within new york. Through the plotting of various graphs, the relationships between the neighbourhoods, income, and business will be seen easier which will help our client decide on the various businesses that need to be pursued according to the neighbourhood requirements as well as the various trends that exist between similar neighborhoods."
   ]
  },
  {
   "cell_type": "markdown",
   "metadata": {},
   "source": [
    "## Intermediate code to demonstrate the data that is used"
   ]
  },
  {
   "cell_type": "markdown",
   "metadata": {},
   "source": [
    "This next blokc of code will import all the various modules that are required for the data analysis."
   ]
  },
  {
   "cell_type": "code",
   "execution_count": 1,
   "metadata": {},
   "outputs": [
    {
     "name": "stdout",
     "output_type": "stream",
     "text": [
      "Libraries imported.\n"
     ]
    }
   ],
   "source": [
    "import pandas as pd\n",
    "pd.set_option('display.max_columns', None)\n",
    "pd.set_option('display.max_rows', None)\n",
    "import numpy as np\n",
    "from bs4 import BeautifulSoup\n",
    "import requests\n",
    "import folium\n",
    "from geopy.geocoders import Nominatim\n",
    "import json\n",
    "from IPython.display import display\n",
    "import matplotlib.cm as cm\n",
    "import matplotlib.colors as colors\n",
    "from pandas.io.json import json_normalize\n",
    "from sklearn.cluster import KMeans\n",
    "\n",
    "print('Libraries imported.')"
   ]
  },
  {
   "cell_type": "markdown",
   "metadata": {},
   "source": [
    "The following blocks of code will download the new york data and assign it to a variable which will contain a complex dictionary in the json file format. The following block creates a pandas dataframe containing the neighborhoods and their respective coordinates. The median household income is scraped off an article and merged with the neighborhoods coordinates data to create a data frame of neighborhoods with their median household income as well as their coordinates."
   ]
  },
  {
   "cell_type": "code",
   "execution_count": 2,
   "metadata": {},
   "outputs": [
    {
     "name": "stdout",
     "output_type": "stream",
     "text": [
      "Done!\n"
     ]
    }
   ],
   "source": [
    "!wget -q -O 'nyu_2451_34572-geojson.json' https://cocl.us/new_york_dataset\n",
    "    \n",
    "json_data = 'nyu_2451_34572-geojson.json'\n",
    "with open(json_data, 'r') as f:\n",
    "    newyork_data = json.load(f)\n",
    "\n",
    "print(\"Done!\")"
   ]
  },
  {
   "cell_type": "code",
   "execution_count": 11,
   "metadata": {},
   "outputs": [
    {
     "data": {
      "text/html": [
       "<div>\n",
       "<style scoped>\n",
       "    .dataframe tbody tr th:only-of-type {\n",
       "        vertical-align: middle;\n",
       "    }\n",
       "\n",
       "    .dataframe tbody tr th {\n",
       "        vertical-align: top;\n",
       "    }\n",
       "\n",
       "    .dataframe thead th {\n",
       "        text-align: right;\n",
       "    }\n",
       "</style>\n",
       "<table border=\"1\" class=\"dataframe\">\n",
       "  <thead>\n",
       "    <tr style=\"text-align: right;\">\n",
       "      <th></th>\n",
       "      <th>Neighborhood</th>\n",
       "      <th>Latitude</th>\n",
       "      <th>Longitude</th>\n",
       "    </tr>\n",
       "  </thead>\n",
       "  <tbody>\n",
       "    <tr>\n",
       "      <th>0</th>\n",
       "      <td>Wakefield</td>\n",
       "      <td>40.894705</td>\n",
       "      <td>-73.847201</td>\n",
       "    </tr>\n",
       "    <tr>\n",
       "      <th>1</th>\n",
       "      <td>Co-op City</td>\n",
       "      <td>40.874294</td>\n",
       "      <td>-73.829939</td>\n",
       "    </tr>\n",
       "    <tr>\n",
       "      <th>2</th>\n",
       "      <td>Eastchester</td>\n",
       "      <td>40.887556</td>\n",
       "      <td>-73.827806</td>\n",
       "    </tr>\n",
       "    <tr>\n",
       "      <th>3</th>\n",
       "      <td>Fieldston</td>\n",
       "      <td>40.895437</td>\n",
       "      <td>-73.905643</td>\n",
       "    </tr>\n",
       "    <tr>\n",
       "      <th>4</th>\n",
       "      <td>Riverdale</td>\n",
       "      <td>40.890834</td>\n",
       "      <td>-73.912585</td>\n",
       "    </tr>\n",
       "  </tbody>\n",
       "</table>\n",
       "</div>"
      ],
      "text/plain": [
       "  Neighborhood   Latitude  Longitude\n",
       "0    Wakefield  40.894705 -73.847201\n",
       "1   Co-op City  40.874294 -73.829939\n",
       "2  Eastchester  40.887556 -73.827806\n",
       "3    Fieldston  40.895437 -73.905643\n",
       "4    Riverdale  40.890834 -73.912585"
      ]
     },
     "execution_count": 11,
     "metadata": {},
     "output_type": "execute_result"
    }
   ],
   "source": [
    "neighborhoods_data = newyork_data['features']\n",
    "\n",
    "# define the dataframe columns\n",
    "column_names = ['Neighborhood', 'Latitude', 'Longitude'] \n",
    "\n",
    "# instantiate the dataframe\n",
    "neighborhoods = pd.DataFrame(columns=column_names)\n",
    "\n",
    "for data in neighborhoods_data:\n",
    "    neighborhood_name = data['properties']['name']\n",
    "    neighborhood_latlon = data['geometry']['coordinates']\n",
    "    neighborhood_lat = neighborhood_latlon[1]\n",
    "    neighborhood_lon = neighborhood_latlon[0]\n",
    "    \n",
    "    neighborhoods = neighborhoods.append({'Neighborhood': neighborhood_name,\n",
    "                                          'Latitude': neighborhood_lat,\n",
    "                                          'Longitude': neighborhood_lon}, ignore_index=True)\n",
    "neighborhoods.head()"
   ]
  },
  {
   "cell_type": "code",
   "execution_count": 10,
   "metadata": {},
   "outputs": [],
   "source": [
    "url = \"https://www.homesnacks.net/richest-neighborhoods-in-new-york-129002/\"\n",
    "\n",
    "source = requests.get(url).text\n",
    "soup = BeautifulSoup(source, 'lxml')\n",
    "table = soup.find('table id=ranking-table')\n",
    "table = soup.find(table)\n",
    "#print(table)\n",
    "\n",
    "headline = table.body.table.text\n",
    "#print(headline)\n",
    "\n"
   ]
  },
  {
   "cell_type": "code",
   "execution_count": 9,
   "metadata": {},
   "outputs": [],
   "source": [
    "new_table = headline.split(\"\\n\")\n",
    "\n",
    "i = 8\n",
    "j = i+1\n",
    "k = j+1\n",
    "\n",
    "nydf = pd.DataFrame([[\"\", \"\", \"\"]], columns = ['Rank', 'Neighborhood', 'Median Household Income'])\n",
    "while i < len(new_table)-3:\n",
    "    nydf = nydf.append({'Rank': new_table[i], 'Neighborhood': new_table[j], 'Median Household Income': new_table[k]}, ignore_index=True)\n",
    "    i = i + 5\n",
    "    j = i + 1\n",
    "    k = j + 1\n",
    "    \n",
    "#nydf"
   ]
  },
  {
   "cell_type": "code",
   "execution_count": 12,
   "metadata": {},
   "outputs": [
    {
     "data": {
      "text/html": [
       "<div>\n",
       "<style scoped>\n",
       "    .dataframe tbody tr th:only-of-type {\n",
       "        vertical-align: middle;\n",
       "    }\n",
       "\n",
       "    .dataframe tbody tr th {\n",
       "        vertical-align: top;\n",
       "    }\n",
       "\n",
       "    .dataframe thead th {\n",
       "        text-align: right;\n",
       "    }\n",
       "</style>\n",
       "<table border=\"1\" class=\"dataframe\">\n",
       "  <thead>\n",
       "    <tr style=\"text-align: right;\">\n",
       "      <th></th>\n",
       "      <th>Rank</th>\n",
       "      <th>Neighborhood</th>\n",
       "      <th>Median Household Income</th>\n",
       "      <th>Latitude</th>\n",
       "      <th>Longitude</th>\n",
       "    </tr>\n",
       "  </thead>\n",
       "  <tbody>\n",
       "    <tr>\n",
       "      <th>0</th>\n",
       "      <td>1</td>\n",
       "      <td>Tribeca</td>\n",
       "      <td>$186,416</td>\n",
       "      <td>40.721522</td>\n",
       "      <td>-74.010683</td>\n",
       "    </tr>\n",
       "    <tr>\n",
       "      <th>1</th>\n",
       "      <td>2</td>\n",
       "      <td>Carnegie Hill</td>\n",
       "      <td>$171,603</td>\n",
       "      <td>40.782683</td>\n",
       "      <td>-73.953256</td>\n",
       "    </tr>\n",
       "    <tr>\n",
       "      <th>2</th>\n",
       "      <td>4</td>\n",
       "      <td>Financial District</td>\n",
       "      <td>$158,605</td>\n",
       "      <td>40.707107</td>\n",
       "      <td>-74.010665</td>\n",
       "    </tr>\n",
       "    <tr>\n",
       "      <th>3</th>\n",
       "      <td>6</td>\n",
       "      <td>Upper East Side</td>\n",
       "      <td>$131,996</td>\n",
       "      <td>40.775639</td>\n",
       "      <td>-73.960508</td>\n",
       "    </tr>\n",
       "    <tr>\n",
       "      <th>4</th>\n",
       "      <td>7</td>\n",
       "      <td>Cobble Hill</td>\n",
       "      <td>$131,817</td>\n",
       "      <td>40.687920</td>\n",
       "      <td>-73.998561</td>\n",
       "    </tr>\n",
       "  </tbody>\n",
       "</table>\n",
       "</div>"
      ],
      "text/plain": [
       "  Rank        Neighborhood Median Household Income   Latitude  Longitude\n",
       "0    1             Tribeca                $186,416  40.721522 -74.010683\n",
       "1    2       Carnegie Hill                $171,603  40.782683 -73.953256\n",
       "2    4  Financial District                $158,605  40.707107 -74.010665\n",
       "3    6     Upper East Side                $131,996  40.775639 -73.960508\n",
       "4    7         Cobble Hill                $131,817  40.687920 -73.998561"
      ]
     },
     "execution_count": 12,
     "metadata": {},
     "output_type": "execute_result"
    }
   ],
   "source": [
    "new_df = pd.merge(nydf, neighborhoods, on='Neighborhood')\n",
    "new_df = new_df[['Rank','Neighborhood','Median Household Income','Latitude','Longitude']]\n",
    "new_df.head()"
   ]
  },
  {
   "cell_type": "markdown",
   "metadata": {},
   "source": [
    "## Week 1 Summary"
   ]
  },
  {
   "cell_type": "markdown",
   "metadata": {},
   "source": [
    "The table above contains the locational neighborhood data of New York with their relevant median household income. Neighborhoods without data will not be considered as well as neighborhoods with duplicate data. The foursquare API data will be used to look at the types of consumer businesses and attractions exist within each area. By making use of the various attractions in the various areas, certain trends are expected to be observed which will allow us to better understand the business horizon of New York and the best way to infiltrate its market."
   ]
  },
  {
   "cell_type": "code",
   "execution_count": null,
   "metadata": {},
   "outputs": [],
   "source": []
  }
 ],
 "metadata": {
  "kernelspec": {
   "display_name": "Python 3",
   "language": "python",
   "name": "python3"
  },
  "language_info": {
   "codemirror_mode": {
    "name": "ipython",
    "version": 3
   },
   "file_extension": ".py",
   "mimetype": "text/x-python",
   "name": "python",
   "nbconvert_exporter": "python",
   "pygments_lexer": "ipython3",
   "version": "3.7.6"
  }
 },
 "nbformat": 4,
 "nbformat_minor": 4
}
