{
 "cells": [
  {
   "cell_type": "markdown",
   "metadata": {},
   "source": [
    "# Segmenting and Clustering Neighbourhoods in Toronto\n",
    "#### This notebook will be used to complete the Peer graded assignment \"Segmenting and Clustering neighbourhoods in Toronto\""
   ]
  },
  {
   "cell_type": "markdown",
   "metadata": {},
   "source": [
    "This section imports all necessary packages for this seciton of the project"
   ]
  },
  {
   "cell_type": "code",
   "execution_count": 130,
   "metadata": {},
   "outputs": [],
   "source": [
    "#Importing all the necessary packages required to complete the assignment\n",
    "import pandas as pd\n",
    "import numpy as np\n",
    "from bs4 import BeautifulSoup\n",
    "import requests\n"
   ]
  },
  {
   "cell_type": "markdown",
   "metadata": {},
   "source": [
    "These next two blocks of code gather the table from the wikipedia page"
   ]
  },
  {
   "cell_type": "code",
   "execution_count": 37,
   "metadata": {},
   "outputs": [],
   "source": [
    "url = \"https://en.wikipedia.org/wiki/List_of_postal_codes_of_Canada:_M\""
   ]
  },
  {
   "cell_type": "code",
   "execution_count": 52,
   "metadata": {},
   "outputs": [],
   "source": [
    "source = requests.get(url).text\n",
    "soup = BeautifulSoup(source, 'lxml')\n",
    "table = soup.find('wikitable sortable jquery-tablesorter')\n",
    "table = soup.find(table)"
   ]
  },
  {
   "cell_type": "markdown",
   "metadata": {},
   "source": [
    "This next block of code gathers the text from the table and creates a pandas dataframe by appending each new row to the dataframe by iterating through the list. The comments in the middle are code that were used during manipulation that didnt work or are ways debug the code when there were issues."
   ]
  },
  {
   "cell_type": "code",
   "execution_count": 131,
   "metadata": {
    "scrolled": true
   },
   "outputs": [],
   "source": [
    "#print(table.prettify())\n",
    "\n",
    "headline = table.body.table.text\n",
    "\n",
    "#print(headline)\n",
    "#print(headline.split(\"\\n\"))\n",
    "new_table = headline.split(\"\\n\")\n",
    "#new_table = list(filter(('').__ne__, (headline.split(\"\\n\"))))\n",
    "#print(new_table)\n",
    "\n",
    "i = 9\n",
    "j = i+2\n",
    "k = j+2\n",
    "temp_frame = []\n",
    "ndf = pd.DataFrame([[\"\", \"\", \"\"]], columns = ['Postal Code', 'Borough', 'Neighborhood'])\n",
    "while i < len(new_table):\n",
    "    ndf = ndf.append({'Postal Code': new_table[i], 'Borough': new_table[j], 'Neighborhood': new_table[k]}, ignore_index=True)\n",
    "    i = i + 7\n",
    "    j = i + 2\n",
    "    k = j + 2\n",
    "\n",
    "# Set 'Postal Code' as the index of the dataframe\n",
    "#df.set_index('Postal Code', inplace=True)\n",
    "#print(ndf)\n"
   ]
  },
  {
   "cell_type": "markdown",
   "metadata": {},
   "source": [
    "This next block of code replaces all not assigned balues and empty strings the \"NaN\" value and removes it accordingly from the data frame. The next section replaces the empty values in the neighborhoods column with the Borough value in the same row. Finally, I remove the backslashes from the multiple Neighborhoods and converted it into commas. The final dataframe is then printed."
   ]
  },
  {
   "cell_type": "code",
   "execution_count": 128,
   "metadata": {
    "scrolled": true
   },
   "outputs": [
    {
     "name": "stdout",
     "output_type": "stream",
     "text": [
      "    Postal Code           Borough  \\\n",
      "2           M3A        North York   \n",
      "3           M4A        North York   \n",
      "4           M5A  Downtown Toronto   \n",
      "5           M6A        North York   \n",
      "6           M7A  Downtown Toronto   \n",
      "..          ...               ...   \n",
      "340         M8X         Etobicoke   \n",
      "345         M4Y  Downtown Toronto   \n",
      "348         M7Y      East Toronto   \n",
      "349         M8Y         Etobicoke   \n",
      "358         M8Z         Etobicoke   \n",
      "\n",
      "                                          Neighborhood  \n",
      "2                                            Parkwoods  \n",
      "3                                     Victoria Village  \n",
      "4                           Regent Park , Harbourfront  \n",
      "5                    Lawrence Manor , Lawrence Heights  \n",
      "6         Queen's Park , Ontario Provincial Government  \n",
      "..                                                 ...  \n",
      "340   The Kingsway , Montgomery Road  , Old Mill North  \n",
      "345                               Church and Wellesley  \n",
      "348              Business reply mail Processing CentrE  \n",
      "349  Old Mill South , King's Mill Park , Sunnylea ,...  \n",
      "358  Mimico NW , The Queensway West , South of Bloo...  \n",
      "\n",
      "[206 rows x 3 columns]\n"
     ]
    }
   ],
   "source": [
    "ndf = df\n",
    "nan_value = float(\"NaN\")\n",
    "df.replace(\"\", nan_value, inplace=True)\n",
    "df.replace(\"Not assigned\", nan_value, inplace=True)\n",
    "#print(df)\n",
    "df.dropna(subset = ['Borough'], inplace=True)\n",
    "#Replacing Neighborhoods with no value to the Borough value\n",
    "value = 0\n",
    "for i in df.index:\n",
    "    if (df['Neighborhood'][i] == \"\"):\n",
    "        df['Neighborhood'][i] == df['Borough'][i]\n",
    "    if len(df['Neighborhood'][i].split(\"/\")) != 1:\n",
    "        temp_list = df['Neighborhood'][i].split(\"/\")\n",
    "        value = \",\".join(temp_list)\n",
    "        df['Neighborhood'][i] = value\n",
    "            \n",
    "print(df)"
   ]
  },
  {
   "cell_type": "code",
   "execution_count": 129,
   "metadata": {
    "scrolled": true
   },
   "outputs": [
    {
     "data": {
      "text/plain": [
       "(206, 3)"
      ]
     },
     "execution_count": 129,
     "metadata": {},
     "output_type": "execute_result"
    }
   ],
   "source": [
    "#Find the shape of the pandas dataframe\n",
    "df.shape"
   ]
  },
  {
   "cell_type": "code",
   "execution_count": null,
   "metadata": {},
   "outputs": [],
   "source": []
  }
 ],
 "metadata": {
  "kernelspec": {
   "display_name": "Python 3",
   "language": "python",
   "name": "python3"
  },
  "language_info": {
   "codemirror_mode": {
    "name": "ipython",
    "version": 3
   },
   "file_extension": ".py",
   "mimetype": "text/x-python",
   "name": "python",
   "nbconvert_exporter": "python",
   "pygments_lexer": "ipython3",
   "version": "3.7.6"
  }
 },
 "nbformat": 4,
 "nbformat_minor": 4
}
